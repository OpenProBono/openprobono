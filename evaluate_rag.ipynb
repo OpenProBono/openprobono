{
 "cells": [
  {
   "cell_type": "markdown",
   "metadata": {},
   "source": [
    "\n",
    "# OpenProBono RAG Evaluation\n",
    "\n",
    "This notebook was created using https://huggingface.co/learn/cookbook/en/rag_evaluation as a guide. Anything inside double quotations is a direct quote from this source, and much of the text is paraphrased. Prompts and code have been modified for use by OpenProBono.\n",
    "\n",
    "### 0: Install and import dependencies."
   ]
  },
  {
   "cell_type": "code",
   "execution_count": 20,
   "metadata": {},
   "outputs": [],
   "source": [
    "!pip install -q torch transformers langchain sentence-transformers tqdm openpyxl openai pandas datasets"
   ]
  },
  {
   "cell_type": "code",
   "execution_count": 21,
   "metadata": {},
   "outputs": [],
   "source": [
    "import json\n",
    "from pathlib import Path\n",
    "from typing import List, Optional, Tuple\n",
    "\n",
    "import openai\n",
    "import pandas as pd\n",
    "from tqdm.auto import tqdm\n",
    "\n",
    "import milvusdb\n",
    "\n",
    "pd.set_option(\"display.max_colwidth\", None)"
   ]
  },
  {
   "cell_type": "markdown",
   "metadata": {},
   "source": [
    "### 1: Load our knowledge base\n",
    "\n",
    "For this step, we have already loaded the data we wish to evaluate into a `Collection` in our Milvus vector database.\n",
    "\n",
    "#### 1.1: Load sources\n",
    " \n",
    "We have a list of sources we use to filter the documents so we can generate questions about one document at a time. The sources can be files or URLs. We load the list of sources for this example from a file named `urls`."
   ]
  },
  {
   "cell_type": "code",
   "execution_count": 22,
   "metadata": {},
   "outputs": [],
   "source": [
    "with Path(\"urls\").open() as f:\n",
    "    urls = [line.strip() for line in f.readlines()]"
   ]
  },
  {
   "cell_type": "markdown",
   "metadata": {},
   "source": [
    "#### 1.2: Load documents\n",
    "\n",
    "Now that we loaded our source URLs, we can write a function that will get the chunks associated the source from Milvus. We use a boolean expression filter to get the right chunks."
   ]
  },
  {
   "cell_type": "code",
   "execution_count": 23,
   "metadata": {},
   "outputs": [],
   "source": [
    "collection_name = milvusdb.COURTROOM5\n",
    "\n",
    "def load_url_documents(url: str):\n",
    "    expr = f\"metadata['url']=='{url}'\"\n",
    "    hits = milvusdb.get_expr(collection_name, expr)[\"result\"]\n",
    "    for i in range(len(hits)):\n",
    "        hits[i][\"url\"] = hits[i][\"metadata\"][\"url\"]\n",
    "        hits[i][\"page_number\"] = hits[i][\"metadata\"][\"page_number\"]\n",
    "        del hits[i][\"pk\"]\n",
    "        del hits[i][\"metadata\"]\n",
    "    return hits"
   ]
  },
  {
   "cell_type": "markdown",
   "metadata": {},
   "source": [
    "#### 1.3: Setup question generation agents\n",
    "\n",
    "We will use `gpt-3.5-turbo` for question generation."
   ]
  },
  {
   "cell_type": "code",
   "execution_count": 24,
   "metadata": {},
   "outputs": [],
   "source": [
    "model = \"gpt-3.5-turbo\"\n",
    "llm_client = openai.OpenAI()\n",
    "\n",
    "def call_llm(client: openai.OpenAI, prompt: str):\n",
    "    prompt_msg = {\"role\": \"system\", \"content\": prompt}\n",
    "    response = client.chat.completions.create(\n",
    "        model=model,\n",
    "        messages=[prompt_msg],\n",
    "        max_tokens=1000,\n",
    "    )\n",
    "    return response.choices[0].message.content"
   ]
  },
  {
   "cell_type": "markdown",
   "metadata": {},
   "source": [
    "Here is the prompt that will be given to our LLM to generate questions about our documents:"
   ]
  },
  {
   "cell_type": "code",
   "execution_count": 25,
   "metadata": {},
   "outputs": [],
   "source": [
    "QA_generation_prompt = \"\"\"\n",
    "Your task is to write a factoid question and an answer given a context.\n",
    "Your factoid question should be answerable with a specific, concise piece of factual information from the context.\n",
    "Your factoid question should be formulated in the same style as questions users could ask in a search engine.\n",
    "This means that your factoid question MUST NOT mention something like \"according to the passage\" or \"context\".\n",
    "\n",
    "Provide your answer as follows:\n",
    "\n",
    "Output:::\n",
    "Factoid question: (your factoid question)\n",
    "Answer: (your answer to the factoid question)\n",
    "\n",
    "Now here is the context.\n",
    "\n",
    "Context: {context}\\n\n",
    "Output:::\"\"\""
   ]
  },
  {
   "cell_type": "markdown",
   "metadata": {},
   "source": [
    "We will generate 3 samples to test."
   ]
  },
  {
   "cell_type": "code",
   "execution_count": 26,
   "metadata": {},
   "outputs": [
    {
     "name": "stdout",
     "output_type": "stream",
     "text": [
      "Generating 3 QA couples...\n"
     ]
    },
    {
     "name": "stderr",
     "output_type": "stream",
     "text": [
      "100%|██████████| 3/3 [00:03<00:00,  1.21s/it]\n"
     ]
    }
   ],
   "source": [
    "import random\n",
    "\n",
    "N_GENERATIONS = 3  # We intentionally generate only 3 QA couples here for cost and time considerations\n",
    "\n",
    "print(f\"Generating {N_GENERATIONS} QA couples...\")\n",
    "\n",
    "outputs = []\n",
    "for sampled_context in tqdm(random.sample(load_url_documents(urls[4]), N_GENERATIONS)):\n",
    "    # Generate QA couple\n",
    "    output_QA_couple = call_llm(llm_client, QA_generation_prompt.format(context=sampled_context[\"text\"]))\n",
    "    try:\n",
    "        question = output_QA_couple.split(\"Factoid question: \")[-1].split(\"Answer: \")[0].rstrip()\n",
    "        answer = output_QA_couple.split(\"Answer: \")[-1]\n",
    "        assert len(answer) < 300, \"Answer is too long\"\n",
    "        outputs.append(\n",
    "            {\n",
    "                \"context\": sampled_context[\"text\"],\n",
    "                \"question\": question,\n",
    "                \"answer\": answer,\n",
    "                \"source_doc\": sampled_context[\"url\"],\n",
    "            }\n",
    "        )\n",
    "    except:\n",
    "        continue"
   ]
  },
  {
   "cell_type": "code",
   "execution_count": 27,
   "metadata": {},
   "outputs": [
    {
     "data": {
      "text/html": [
       "<div>\n",
       "<style scoped>\n",
       "    .dataframe tbody tr th:only-of-type {\n",
       "        vertical-align: middle;\n",
       "    }\n",
       "\n",
       "    .dataframe tbody tr th {\n",
       "        vertical-align: top;\n",
       "    }\n",
       "\n",
       "    .dataframe thead th {\n",
       "        text-align: right;\n",
       "    }\n",
       "</style>\n",
       "<table border=\"1\" class=\"dataframe\">\n",
       "  <thead>\n",
       "    <tr style=\"text-align: right;\">\n",
       "      <th></th>\n",
       "      <th>context</th>\n",
       "      <th>question</th>\n",
       "      <th>answer</th>\n",
       "      <th>source_doc</th>\n",
       "    </tr>\n",
       "  </thead>\n",
       "  <tbody>\n",
       "    <tr>\n",
       "      <th>0</th>\n",
       "      <td>Chapter 1D.\\n\\nPunitive Damages.\\n\\n§ 1D-1. Purpose of punitive damages.\\n\\nPunitive damages may be awarded, in an appropriate case and subject to the provisions of this Chapter, to punish a defendant for egregiously wrongful acts and to deter the defendant and others from committing similar wrongful acts. (1995, c. 514, s. 1.)\\n\\n§ 1D-5. Definitions.\\n\\nAs used in this Chapter:\\n\\n(1)\\n\\n(2) (3)\\n\\n(4)\\n\\n(5)\\n\\n(6)\\n\\n(7)\\n\\n\"Claimant\" means counterclaimant, including cross-claimant, or third-party plaintiff, seeking recovery of punitive damages. In a claim for relief in which a party seeks recovery of punitive damages related to injury to another person, damage to the property of another person, death of another person, or other harm to another person, \"claimant\" includes any party seeking recovery of punitive damages. \"Compensatory damages\" includes nominal damages. \"Defendant\" means a party, including a counterdefendant, cross-defendant, or third-party defendant, from whom a claimant seeks relief with respect to punitive damages. \"Fraud\" does not include constructive fraud unless an element of intent is present. \"Malice\" means a sense of personal ill will toward the claimant that activated or incited the defendant to perform the act or undertake the conduct that resulted in harm to the claimant. \"Punitive damages\" means extracompensatory damages awarded for the purposes set forth in G.S. 1D-1. \"Willful or wanton conduct\" means the conscious and intentional disregard of and indifference to the rights and safety of others, which the defendant knows or should know is reasonably likely to result in injury, damage, or other harm. \"Willful or wanton conduct\" means more than gross negligence. (1995, c. 514, s. 1.)</td>\n",
       "      <td>What is the definition of \"malice\" in the context of punitive damages?</td>\n",
       "      <td>\"Malice\" means a sense of personal ill will toward the claimant that activated or incited the defendant to perform the act or undertake the conduct that resulted in harm to the claimant.</td>\n",
       "      <td>https://www.ncleg.gov/EnactedLegislation/Statutes/PDF/ByChapter/Chapter_1D.pdf</td>\n",
       "    </tr>\n",
       "  </tbody>\n",
       "</table>\n",
       "</div>"
      ],
      "text/plain": [
       "                                                                                                                                                                                                                                                                                                                                                                                                                                                                                                                                                                                                                                                                                                                                                                                                                                                                                                                                                                                                                                                                                                                                                                                                                                                                                                                                                                                                                                                                                                                                                                                                                                                                                                                                                                                                         context  \\\n",
       "0  Chapter 1D.\\n\\nPunitive Damages.\\n\\n§ 1D-1. Purpose of punitive damages.\\n\\nPunitive damages may be awarded, in an appropriate case and subject to the provisions of this Chapter, to punish a defendant for egregiously wrongful acts and to deter the defendant and others from committing similar wrongful acts. (1995, c. 514, s. 1.)\\n\\n§ 1D-5. Definitions.\\n\\nAs used in this Chapter:\\n\\n(1)\\n\\n(2) (3)\\n\\n(4)\\n\\n(5)\\n\\n(6)\\n\\n(7)\\n\\n\"Claimant\" means counterclaimant, including cross-claimant, or third-party plaintiff, seeking recovery of punitive damages. In a claim for relief in which a party seeks recovery of punitive damages related to injury to another person, damage to the property of another person, death of another person, or other harm to another person, \"claimant\" includes any party seeking recovery of punitive damages. \"Compensatory damages\" includes nominal damages. \"Defendant\" means a party, including a counterdefendant, cross-defendant, or third-party defendant, from whom a claimant seeks relief with respect to punitive damages. \"Fraud\" does not include constructive fraud unless an element of intent is present. \"Malice\" means a sense of personal ill will toward the claimant that activated or incited the defendant to perform the act or undertake the conduct that resulted in harm to the claimant. \"Punitive damages\" means extracompensatory damages awarded for the purposes set forth in G.S. 1D-1. \"Willful or wanton conduct\" means the conscious and intentional disregard of and indifference to the rights and safety of others, which the defendant knows or should know is reasonably likely to result in injury, damage, or other harm. \"Willful or wanton conduct\" means more than gross negligence. (1995, c. 514, s. 1.)   \n",
       "\n",
       "                                                                 question  \\\n",
       "0  What is the definition of \"malice\" in the context of punitive damages?   \n",
       "\n",
       "                                                                                                                                                                                       answer  \\\n",
       "0  \"Malice\" means a sense of personal ill will toward the claimant that activated or incited the defendant to perform the act or undertake the conduct that resulted in harm to the claimant.   \n",
       "\n",
       "                                                                       source_doc  \n",
       "0  https://www.ncleg.gov/EnactedLegislation/Statutes/PDF/ByChapter/Chapter_1D.pdf  "
      ]
     },
     "metadata": {},
     "output_type": "display_data"
    }
   ],
   "source": [
    "display(pd.DataFrame(outputs).head(1))"
   ]
  },
  {
   "cell_type": "markdown",
   "metadata": {},
   "source": [
    "#### 1.4 Setup question critique agents\n",
    "\n",
    "The generated questions can be flawed in many ways. We use an agent to determine if a generated question meets the following criteria, given in [this paper](https://huggingface.co/papers/2312.10003):\n",
    "\n",
    "- **Groundedness**: can the question be answered from the given context?\n",
    "- **Relevance**: is the question relevant to users? For instance, *\"What are some of Thomas Jefferson's beliefs regarding the rights and liberties of individuals?\"* is not relevant for OpenProBono users.\n",
    "- **Standalone**: is the question understandable free of any context, for someone with domain knowledge/Internet access? For instance, *\"What does the term 'legal entity' refer to in this statute?\"* is tailored for a particular statute, but unclear by itself.\n",
    "\n",
    "\"We systematically score functions with all these agents, and whenever the score is too low for any one of the agents, we eliminate the question from our eval dataset.\n",
    "\n",
    "💡 ***When asking the agents to output a score, we first ask them to produce its rationale. This will help us verify scores, but most importantly, asking it to first output rationale gives the model more tokens to think and elaborate an answer before summarizing it into a single score token.***\"\n"
   ]
  },
  {
   "cell_type": "code",
   "execution_count": 28,
   "metadata": {},
   "outputs": [],
   "source": [
    "question_groundedness_critique_prompt = \"\"\"\n",
    "You will be given a context and a question.\n",
    "Your task is to provide a 'total rating' scoring how well one can answer the given question unambiguously with the given context.\n",
    "Give your answer on a scale of 1 to 5, where 1 means that the question is not answerable at all given the context, and 5 means that the question is clearly and unambiguously answerable with the context.\n",
    "\n",
    "Provide your answer as follows:\n",
    "\n",
    "Answer:::\n",
    "Evaluation: (your rationale for the rating, as a text)\n",
    "Total rating: (your rating, as a number between 1 and 5)\n",
    "\n",
    "You MUST provide values for 'Evaluation:' and 'Total rating:' in your answer.\n",
    "\n",
    "Now here are the question and context.\n",
    "\n",
    "Question: {question}\\n\n",
    "Context: {context}\\n\n",
    "Answer::: \"\"\"\n",
    "\n",
    "question_relevance_critique_prompt = \"\"\"\n",
    "You will be given a question.\n",
    "Your task is to provide a 'total rating' representing how useful this question can be to people learning about the legal system.\n",
    "Give your answer on a scale of 1 to 5, where 1 means that the question is not useful at all, and 5 means that the question is extremely useful.\n",
    "\n",
    "Provide your answer as follows:\n",
    "\n",
    "Answer:::\n",
    "Evaluation: (your rationale for the rating, as a text)\n",
    "Total rating: (your rating, as a number between 1 and 5)\n",
    "\n",
    "You MUST provide values for 'Evaluation:' and 'Total rating:' in your answer.\n",
    "\n",
    "Now here is the question.\n",
    "\n",
    "Question: {question}\\n\n",
    "Answer::: \"\"\"\n",
    "\n",
    "question_standalone_critique_prompt = \"\"\"\n",
    "You will be given a question.\n",
    "Your task is to provide a 'total rating' representing how context-independent this question is.\n",
    "Give your answer on a scale of 1 to 5, where 1 means that the question depends on additional information to be understood, and 5 means that the question makes sense by itself.\n",
    "For instance, if the question refers to a particular setting, like 'in the context' or 'in the document', the rating must be 1.\n",
    "The questions can contain specific legal definitions or entities like trier of fact or the Board of County Commissioners and still be a 5: it must simply be clear to an operator with access to legal documents what the question is about.\n",
    "\n",
    "For instance, \"What is included in compensatory damages in Chapter 1D?\" should receive a 1, since there is an implicit mention of a context, thus the question is not independent from the context.\n",
    "\n",
    "Provide your answer as follows:\n",
    "\n",
    "Answer:::\n",
    "Evaluation: (your rationale for the rating, as a text)\n",
    "Total rating: (your rating, as a number between 1 and 5)\n",
    "\n",
    "You MUST provide values for 'Evaluation:' and 'Total rating:' in your answer.\n",
    "\n",
    "Now here is the question.\n",
    "\n",
    "Question: {question}\\n\n",
    "Answer::: \"\"\""
   ]
  },
  {
   "cell_type": "code",
   "execution_count": 29,
   "metadata": {},
   "outputs": [
    {
     "name": "stdout",
     "output_type": "stream",
     "text": [
      "Generating critique for each QA couple...\n"
     ]
    },
    {
     "name": "stderr",
     "output_type": "stream",
     "text": [
      "100%|██████████| 2/2 [00:05<00:00,  2.83s/it]\n"
     ]
    }
   ],
   "source": [
    "print(\"Generating critique for each QA couple...\")\n",
    "for output in tqdm(outputs):\n",
    "    evaluations = {\n",
    "        \"groundedness\": call_llm(\n",
    "            llm_client,\n",
    "            question_groundedness_critique_prompt.format(context=output[\"context\"], question=output[\"question\"]),\n",
    "        ),\n",
    "        \"relevance\": call_llm(\n",
    "            llm_client,\n",
    "            question_relevance_critique_prompt.format(question=output[\"question\"]),\n",
    "        ),\n",
    "        \"standalone\": call_llm(\n",
    "            llm_client,\n",
    "            question_standalone_critique_prompt.format(question=output[\"question\"]),\n",
    "        ),\n",
    "    }\n",
    "    try:\n",
    "        for criterion, evaluation in evaluations.items():\n",
    "            score, eval = (\n",
    "                int(evaluation.split(\"Total rating: \")[-1].strip()),\n",
    "                evaluation.split(\"Total rating: \")[-2].split(\"Evaluation: \")[1],\n",
    "            )\n",
    "            output.update(\n",
    "                {\n",
    "                    f\"{criterion}_score\": score,\n",
    "                    f\"{criterion}_eval\": eval,\n",
    "                }\n",
    "            )\n",
    "    except Exception as e:\n",
    "        continue"
   ]
  },
  {
   "cell_type": "code",
   "execution_count": 30,
   "metadata": {},
   "outputs": [
    {
     "data": {
      "text/html": [
       "<div>\n",
       "<style scoped>\n",
       "    .dataframe tbody tr th:only-of-type {\n",
       "        vertical-align: middle;\n",
       "    }\n",
       "\n",
       "    .dataframe tbody tr th {\n",
       "        vertical-align: top;\n",
       "    }\n",
       "\n",
       "    .dataframe thead th {\n",
       "        text-align: right;\n",
       "    }\n",
       "</style>\n",
       "<table border=\"1\" class=\"dataframe\">\n",
       "  <thead>\n",
       "    <tr style=\"text-align: right;\">\n",
       "      <th></th>\n",
       "      <th>question</th>\n",
       "      <th>answer</th>\n",
       "      <th>groundedness_score</th>\n",
       "      <th>relevance_score</th>\n",
       "      <th>standalone_score</th>\n",
       "    </tr>\n",
       "  </thead>\n",
       "  <tbody>\n",
       "    <tr>\n",
       "      <th>0</th>\n",
       "      <td>What is the definition of \"malice\" in the context of punitive damages?</td>\n",
       "      <td>\"Malice\" means a sense of personal ill will toward the claimant that activated or incited the defendant to perform the act or undertake the conduct that resulted in harm to the claimant.</td>\n",
       "      <td>5</td>\n",
       "      <td>5</td>\n",
       "      <td>5</td>\n",
       "    </tr>\n",
       "    <tr>\n",
       "      <th>1</th>\n",
       "      <td>What must the trial court include in a written opinion when reviewing the evidence regarding punitive damages?</td>\n",
       "      <td>The trial court must state its reasons for upholding or disturbing the finding or award, address the evidence as it relates to liability for or the amount of punitive damages, and do so with specificity.</td>\n",
       "      <td>5</td>\n",
       "      <td>5</td>\n",
       "      <td>5</td>\n",
       "    </tr>\n",
       "  </tbody>\n",
       "</table>\n",
       "</div>"
      ],
      "text/plain": [
       "                                                                                                         question  \\\n",
       "0                                          What is the definition of \"malice\" in the context of punitive damages?   \n",
       "1  What must the trial court include in a written opinion when reviewing the evidence regarding punitive damages?   \n",
       "\n",
       "                                                                                                                                                                                                        answer  \\\n",
       "0                   \"Malice\" means a sense of personal ill will toward the claimant that activated or incited the defendant to perform the act or undertake the conduct that resulted in harm to the claimant.   \n",
       "1  The trial court must state its reasons for upholding or disturbing the finding or award, address the evidence as it relates to liability for or the amount of punitive damages, and do so with specificity.   \n",
       "\n",
       "   groundedness_score  relevance_score  standalone_score  \n",
       "0                   5                5                 5  \n",
       "1                   5                5                 5  "
      ]
     },
     "metadata": {},
     "output_type": "display_data"
    }
   ],
   "source": [
    "pd.set_option(\"display.max_colwidth\", None)\n",
    "generated_questions = pd.DataFrame.from_dict(outputs)\n",
    "display(\n",
    "    generated_questions[\n",
    "        [\n",
    "            \"question\",\n",
    "            \"answer\",\n",
    "            \"groundedness_score\",\n",
    "            \"relevance_score\",\n",
    "            \"standalone_score\",\n",
    "        ]\n",
    "    ],\n",
    ")"
   ]
  },
  {
   "cell_type": "code",
   "execution_count": 31,
   "metadata": {},
   "outputs": [
    {
     "name": "stdout",
     "output_type": "stream",
     "text": [
      "============================================\n",
      "Final evaluation dataset:\n"
     ]
    },
    {
     "data": {
      "text/html": [
       "<div>\n",
       "<style scoped>\n",
       "    .dataframe tbody tr th:only-of-type {\n",
       "        vertical-align: middle;\n",
       "    }\n",
       "\n",
       "    .dataframe tbody tr th {\n",
       "        vertical-align: top;\n",
       "    }\n",
       "\n",
       "    .dataframe thead th {\n",
       "        text-align: right;\n",
       "    }\n",
       "</style>\n",
       "<table border=\"1\" class=\"dataframe\">\n",
       "  <thead>\n",
       "    <tr style=\"text-align: right;\">\n",
       "      <th></th>\n",
       "      <th>question</th>\n",
       "      <th>answer</th>\n",
       "      <th>groundedness_score</th>\n",
       "      <th>relevance_score</th>\n",
       "      <th>standalone_score</th>\n",
       "    </tr>\n",
       "  </thead>\n",
       "  <tbody>\n",
       "    <tr>\n",
       "      <th>0</th>\n",
       "      <td>What is the definition of \"malice\" in the context of punitive damages?</td>\n",
       "      <td>\"Malice\" means a sense of personal ill will toward the claimant that activated or incited the defendant to perform the act or undertake the conduct that resulted in harm to the claimant.</td>\n",
       "      <td>5</td>\n",
       "      <td>5</td>\n",
       "      <td>5</td>\n",
       "    </tr>\n",
       "    <tr>\n",
       "      <th>1</th>\n",
       "      <td>What must the trial court include in a written opinion when reviewing the evidence regarding punitive damages?</td>\n",
       "      <td>The trial court must state its reasons for upholding or disturbing the finding or award, address the evidence as it relates to liability for or the amount of punitive damages, and do so with specificity.</td>\n",
       "      <td>5</td>\n",
       "      <td>5</td>\n",
       "      <td>5</td>\n",
       "    </tr>\n",
       "  </tbody>\n",
       "</table>\n",
       "</div>"
      ],
      "text/plain": [
       "                                                                                                         question  \\\n",
       "0                                          What is the definition of \"malice\" in the context of punitive damages?   \n",
       "1  What must the trial court include in a written opinion when reviewing the evidence regarding punitive damages?   \n",
       "\n",
       "                                                                                                                                                                                                        answer  \\\n",
       "0                   \"Malice\" means a sense of personal ill will toward the claimant that activated or incited the defendant to perform the act or undertake the conduct that resulted in harm to the claimant.   \n",
       "1  The trial court must state its reasons for upholding or disturbing the finding or award, address the evidence as it relates to liability for or the amount of punitive damages, and do so with specificity.   \n",
       "\n",
       "   groundedness_score  relevance_score  standalone_score  \n",
       "0                   5                5                 5  \n",
       "1                   5                5                 5  "
      ]
     },
     "metadata": {},
     "output_type": "display_data"
    }
   ],
   "source": [
    "generated_questions = generated_questions.loc[\n",
    "    (generated_questions[\"groundedness_score\"] >= 4)\n",
    "    & (generated_questions[\"relevance_score\"] >= 4)\n",
    "    & (generated_questions[\"standalone_score\"] >= 4)\n",
    "]\n",
    "print(\"============================================\")\n",
    "print(\"Final evaluation dataset:\")\n",
    "\n",
    "display(\n",
    "    generated_questions[\n",
    "        [\n",
    "            \"question\",\n",
    "            \"answer\",\n",
    "            \"groundedness_score\",\n",
    "            \"relevance_score\",\n",
    "            \"standalone_score\",\n",
    "        ]\n",
    "    ],\n",
    ")"
   ]
  }
 ],
 "metadata": {
  "kernelspec": {
   "display_name": ".venv",
   "language": "python",
   "name": "python3"
  },
  "language_info": {
   "codemirror_mode": {
    "name": "ipython",
    "version": 3
   },
   "file_extension": ".py",
   "mimetype": "text/x-python",
   "name": "python",
   "nbconvert_exporter": "python",
   "pygments_lexer": "ipython3",
   "version": "3.11.8"
  }
 },
 "nbformat": 4,
 "nbformat_minor": 2
}
